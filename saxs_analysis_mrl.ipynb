{
 "cells": [
  {
   "cell_type": "markdown",
   "id": "88f73f8c-9aa4-4b2f-a40c-5796640f06e2",
   "metadata": {
    "tags": []
   },
   "source": [
    "# Transmission SAXS Analysis for Operando Membrane Fouling Experiments\n",
    "For single (i.e., non-tiled) images collected at ALS beamline 7.3.3"
   ]
  },
  {
   "cell_type": "code",
   "execution_count": null,
   "id": "af56ca82-8b46-44e3-af8c-0986e9da460a",
   "metadata": {
    "tags": []
   },
   "outputs": [],
   "source": [
    "import warnings; warnings.filterwarnings('ignore')"
   ]
  },
  {
   "cell_type": "code",
   "execution_count": null,
   "id": "2e6d1ebf-6b1e-4e44-92fa-68fad0d3979e",
   "metadata": {
    "tags": []
   },
   "outputs": [],
   "source": [
    "import os\n",
    "import re\n",
    "import numpy as np\n",
    "import pandas as pd\n",
    "import matplotlib as mpl\n",
    "import matplotlib.pyplot as plt\n",
    "%matplotlib inline \n",
    "import pyFAI\n",
    "import fabio\n",
    "plt.style.use('default')\n",
    "from mpl_toolkits.axes_grid1.axes_divider import make_axes_locatable\n",
    "from mpl_toolkits.axes_grid1.inset_locator import inset_axes\n",
    "from matplotlib.colorbar import Colorbar as colorbar\n",
    "from matplotlib.colors import LogNorm\n",
    "from scipy.signal import find_peaks\n",
    "from scipy.integrate import simps\n",
    "from tqdm import tqdm\n"
   ]
  },
  {
   "cell_type": "code",
   "execution_count": null,
   "id": "ec161f66-df37-4d6c-9f8f-2bde621c5df8",
   "metadata": {
    "tags": []
   },
   "outputs": [],
   "source": [
    "flag_save = True"
   ]
  },
  {
   "cell_type": "code",
   "execution_count": null,
   "id": "671a0ea2-1a30-4cb8-9d28-0c6aa8479756",
   "metadata": {
    "tags": []
   },
   "outputs": [],
   "source": [
    "# using  sorted, sample10 comes before sample1, so we clean this up now - taken from: https://stackoverflow.com/questions/5967500/how-to-correctly-sort-a-string-with-a-number-inside\n",
    "def text_to_int(text): return int(text) if text.isdigit() else text\n",
    "def natural_keys(text): return [ text_to_int(c) for c in re.split(r'(\\d+)', text ) ]"
   ]
  },
  {
   "cell_type": "code",
   "execution_count": null,
   "id": "070768bd-4b21-4027-bf08-81d4a5e211b3",
   "metadata": {
    "tags": []
   },
   "outputs": [],
   "source": [
    "# locate files\n",
    "\n",
    "master_path = '/global/cfs/cdirs/als/mwet/data/Landsman Temp/operando instrument paper/'\n",
    "sample_folder = 'exp04a'\n",
    "\n",
    "data_path = os.path.join(master_path, 'saxs_data', sample_folder)\n",
    "save_path = os.path.join(master_path, 'saxs_analysis', sample_folder)\n",
    "if flag_save: os.makedirs(save_path, exist_ok=True)\n"
   ]
  },
  {
   "cell_type": "code",
   "execution_count": null,
   "id": "5b6e53bf-68c4-485a-a723-bc818e41d8b4",
   "metadata": {
    "tags": []
   },
   "outputs": [],
   "source": [
    "# load data\n",
    "\n",
    "files = sorted([os.path.join(data_path, f) for f in os.listdir(os.path.join(data_path)) if 'restart' not in f and 'beamstop_test' not in f and 'autoexpose_test' not in f and 'DS_Store' not in f and '' in f])\n",
    "files.sort(key = natural_keys)\n",
    "\n",
    "imagefiles = sorted([os.path.join(data_path, f) for f in files if '.edf' in f and 'fouling' in f], key=lambda x:  files.index(x))\n",
    "txtfiles = sorted([os.path.join(data_path, f) for f in files if '.txt' in f and 'fouling' in f], key=lambda x:  files.index(x))\n",
    "sample_list = pd.Series([f[ : f.find('_2m.edf')] for f in imagefiles]).unique()\n",
    "sample_list_fname = pd.Series([f[f.find(data_path)+len(data_path):] for f in sample_list]).unique()\n",
    "\n",
    "print(pd.Series(sample_list_fname))"
   ]
  },
  {
   "cell_type": "code",
   "execution_count": null,
   "id": "9fc865a4-22a8-4b28-b9e7-244beef5bc62",
   "metadata": {
    "scrolled": true,
    "tags": []
   },
   "outputs": [],
   "source": [
    "# plot 2D images\n",
    "\n",
    "for samp in tqdm((sample_list[:])):\n",
    "    fname = sorted(f for f in imagefiles if (samp in f))[0]    \n",
    "    file = os.path.join(data_path,fname)\n",
    "    image = fabio.open(file)\n",
    "    array = image.data\n",
    "    array[array < 1] = 1\n",
    "\n",
    "    fig, ax = plt.subplots()\n",
    "    im = ax.imshow(array, norm=LogNorm(vmin=np.percentile(array, 20), vmax=np.percentile(array, 99.9)))\n",
    "\n",
    "    sample_title = os.path.basename(fname)\n",
    "    ax.set_title(sample_title)\n",
    "    ax.axis('off')\n",
    "        \n",
    "    ax_divider = make_axes_locatable(ax)\n",
    "    cax = ax_divider.append_axes('bottom', size='3%', pad='2%')\n",
    "    plt.colorbar(im, cax=cax, orientation='horizontal')\n",
    "    cax.set_xlabel('Scattering intensity (arbitrary units)', size=8)\n",
    "    cax.xaxis.set_label_position('bottom')\n",
    "    cax.xaxis.tick_bottom()\n",
    "    cax.xaxis.set_tick_params(labelsize=8)   \n",
    "    fig.tight_layout()\n",
    "    \n",
    "    if flag_save:\n",
    "        save_path_2dimages = os.path.join(save_path, 'saxs_2dimages')\n",
    "        os.makedirs(save_path_2dimages, exist_ok=True)\n",
    "        save_fname = os.path.join(save_path_2dimages, os.path.basename(samp) + '_2dimage.png')\n",
    "        fig.savefig(save_fname, bbox_inches='tight', dpi=300)    \n",
    "    "
   ]
  },
  {
   "cell_type": "code",
   "execution_count": null,
   "id": "ccb6d370-4800-4dae-b692-2fcd14696e56",
   "metadata": {},
   "outputs": [],
   "source": []
  },
  {
   "cell_type": "code",
   "execution_count": null,
   "id": "fb791ea9-a794-432d-b2b5-2245cd06a536",
   "metadata": {
    "tags": []
   },
   "outputs": [],
   "source": [
    "# azimuthal integrator (this is the most computationally expensive component, so we load it once and refer to it within loops later)\n",
    "# poni file was created using pyFAI calibration GUI (https://pyfai.readthedocs.io/en/master/usage/cookbook/calib-gui/index.html)\n",
    "\n",
    "poni = os.path.join(master_path, 'saxs_data', 'saxs_poni_mrl.poni')\n",
    "ai = pyFAI.load(poni)\n",
    "ai.maskfile = os.path.join(master_path, 'saxs_data', 'saxs_mask_mrl.edf')\n",
    "\n",
    "ai"
   ]
  },
  {
   "cell_type": "code",
   "execution_count": null,
   "id": "fc87d47d-5eb5-47a3-a190-87a6059a4578",
   "metadata": {
    "tags": []
   },
   "outputs": [],
   "source": [
    "# batch process(+save) reduced profiles --> normalize based on diode value, radially integrate, plot 1D profiles    \n",
    "\n",
    "# input q values expected for nanoparticles (to draw vertical lines) \n",
    "specific_q_values = [0.01185, 0.01843, 0.02496, 0.03098, 0.03805]\n",
    "\n",
    "colormap = plt.get_cmap('Blues')\n",
    "colors = colormap(np.linspace(0.01, 1, len(sample_list)))\n",
    "z = np.zeros((1, 2000))\n",
    "azimuth_range = [-180, 180]\n",
    "\n",
    "fig, ax = plt.subplots(figsize=(6, 6))\n",
    "\n",
    "timestep_list = []\n",
    "tsi_list = []\n",
    "\n",
    "specific_q_value = 0.01\n",
    "intensities_for_specific_q = []\n",
    "\n",
    "for idx, samp in tqdm(enumerate(sample_list[30:-2])):\n",
    "    \n",
    "    ctrl_fname = imagefiles[29]\n",
    "    ctrl_txtfile = txtfiles[29]\n",
    "    ctrl_I1_value = int(np.loadtxt(os.path.join(data_path, ctrl_txtfile), skiprows=1, max_rows=1))\n",
    "    ctrl_diode_value = int(np.loadtxt(os.path.join(data_path, ctrl_txtfile), skiprows=2, max_rows=1))\n",
    "    ctrl_file = os.path.join(data_path, ctrl_fname)\n",
    "    ctrl_image = fabio.open(ctrl_file)\n",
    "    ctrl_array = ctrl_image.data\n",
    "    ctrl_array[ctrl_array < 1] = 1\n",
    "    ctrl_reduced = ai.integrate1d(ctrl_array, npt=2000, azimuth_range=azimuth_range)    \n",
    "    q_ctrl = ctrl_reduced[0] / 10\n",
    "    i_ctrl = ctrl_reduced[1] / ctrl_diode_value\n",
    "\n",
    "    txtfile = sorted(t for t in txtfiles if (samp in t))[0]\n",
    "    I1_value = int(np.loadtxt(txtfile, skiprows=1, max_rows=1))\n",
    "    diode_value = int(np.loadtxt(txtfile, skiprows=2, max_rows=1))\n",
    "    fname = sorted(f for f in files if (samp in f))[0]\n",
    "    sample_file = os.path.join(data_path, fname)\n",
    "    sample_image = fabio.open(sample_file)\n",
    "    sample_array = sample_image.data\n",
    "    sample_array[sample_array < 1] = 1\n",
    "    sample_reduced = ai.integrate1d(sample_array, npt=2000, azimuth_range=azimuth_range)    \n",
    "    q_sample = sample_reduced[0] / 10\n",
    "    i_sample = sample_reduced[1] / diode_value    \n",
    "    i_sample_norm = i_sample - i_ctrl*0.9\n",
    "    \n",
    "    # input q boundaries\n",
    "    q_min = 0.009076\n",
    "    q_max = 0.01437\n",
    "    \n",
    "    q_indices = (q_sample >= q_min) & (q_sample <= q_max)\n",
    "    tsi_q_sample = q_sample[q_indices]\n",
    "    tsi_i_sample_norm = i_sample[q_indices]\n",
    "    \n",
    "    tsi_valid_indices = ~np.isnan(tsi_i_sample_norm)\n",
    "    tsi = np.trapz(tsi_i_sample_norm[tsi_valid_indices], tsi_q_sample[tsi_valid_indices])\n",
    "    tsi_list.append(tsi)\n",
    "    timestep_list.append(idx)\n",
    "    \n",
    "    i_sample_krakty = i_sample_norm * q_sample**2\n",
    "    ax.plot(q_sample, i_sample_krakty, '-', linewidth=1, markerfacecolor='none', color=colors[idx])\n",
    "    ax.spines['top'].set_linewidth(1.5)\n",
    "    ax.spines['right'].set_linewidth(1.5)\n",
    "    ax.spines['bottom'].set_linewidth(1.5)\n",
    "    ax.spines['left'].set_linewidth(1.5)\n",
    "    ax.set_xlabel(r'Scattering vector, $q \\ (\\mathrm{\\AA^{-1}})$', fontsize=20)\n",
    "    ax.set_ylabel(r'Scattering intensity * $q^2$ (arb)', fontsize=20)\n",
    "    ax.tick_params(axis='both', which='major', labelsize=18, width=2, length=6, direction='in', labelcolor='black')\n",
    "    ax.minorticks_on()\n",
    "    ax.tick_params(axis='x', which='minor', length=4, width=1.5, direction='in', labelsize=0)  # Hide minor tick labels\n",
    "    plt.xticks(fontsize=20)\n",
    "    plt.yticks(fontsize=20)\n",
    "    ax.set_xscale('log')\n",
    "    ax.set_xlim([5e-3, 2.7e-2])\n",
    "    ax.set_ylim([0, 0.00000055])\n",
    "    plt.grid(False)\n",
    "    \n",
    "    \n",
    "    \n",
    "    \n",
    "    \n",
    "    \n",
    "    \n",
    "    z = np.vstack((z, i_sample_krakty))\n",
    "    \n",
    "    # Find the index of the closest q_val to the specific_x_value\n",
    "    closest_index = np.argmin(np.abs(q_sample - specific_q_value))\n",
    "\n",
    "    # Get the corresponding i_sample_norm value\n",
    "    closest_int_value = i_sample_norm[closest_index]\n",
    "    intensities_for_specific_q.append(closest_int_value)\n",
    "\n",
    "# Add vertical lines at the specified x values\n",
    "for x_val in specific_q_values:\n",
    "    ax.axvline(x=x_val, color='red', linestyle='--', linewidth=1)\n",
    "\n",
    "plt.legend()\n",
    "plt.show()\n"
   ]
  },
  {
   "cell_type": "code",
   "execution_count": null,
   "id": "103f6abc-37f1-4cd7-bc02-afc413121352",
   "metadata": {
    "tags": []
   },
   "outputs": [],
   "source": [
    "# lets take a look at the transmission signal on the diode as a function of time\n",
    "\n",
    "fig, ax = plt.subplots(figsize=(6, 4))\n",
    "ax.set_title(f'Transmission flux through flow cell\\n{sample_folder}')\n",
    "ax.plot(transmission_list, 'o-')\n",
    "ax.set_xlabel('sample index')\n",
    "ax.set_ylabel('photodiode flux / I1 flux')\n",
    "ax.grid(which='major', color='lightgrey', linewidth=0.6); ax.grid(which='minor', color='lightgrey', linewidth=0.3)\n",
    "\n",
    "if flag_save:\n",
    "    save_plotname = os.path.join(save_path, sample_folder + '_transmissionflux.png')\n",
    "    fig.savefig(save_plotname, bbox_inches='tight', dpi=300)\n",
    "        \n"
   ]
  },
  {
   "cell_type": "code",
   "execution_count": null,
   "id": "781bfe21-293b-4893-a954-04613992435c",
   "metadata": {
    "tags": []
   },
   "outputs": [],
   "source": [
    "# now lets take a look at the total scattering intensity\n",
    "\n",
    "fig, ax = plt.subplots(figsize=(6, 4))\n",
    "ax.set_title(f'Transmission flux through flow cell\\n{sample_folder}')\n",
    "ax.plot(tsi_list, 'o-')\n",
    "ax.set_xlabel('sample index')\n",
    "ax.set_ylabel('photodiode flux / I1 flux')\n",
    "ax.grid(which='major', color='lightgrey', linewidth=0.6); ax.grid(which='minor', color='lightgrey', linewidth=0.3)\n",
    "\n",
    "if flag_save:\n",
    "    save_plotname = os.path.join(save_path, sample_folder + '_transmissionflux.png')\n",
    "    fig.savefig(save_plotname, bbox_inches='tight', dpi=300)\n",
    "        \n"
   ]
  },
  {
   "cell_type": "code",
   "execution_count": null,
   "id": "09f43c23-6bb0-4c1d-a005-12d106187871",
   "metadata": {},
   "outputs": [],
   "source": []
  }
 ],
 "metadata": {
  "kernelspec": {
   "display_name": "Python 3 (ipykernel)",
   "language": "python",
   "name": "python3"
  },
  "language_info": {
   "codemirror_mode": {
    "name": "ipython",
    "version": 3
   },
   "file_extension": ".py",
   "mimetype": "text/x-python",
   "name": "python",
   "nbconvert_exporter": "python",
   "pygments_lexer": "ipython3",
   "version": "3.11.3"
  }
 },
 "nbformat": 4,
 "nbformat_minor": 5
}
