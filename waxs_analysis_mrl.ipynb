{
 "cells": [
  {
   "cell_type": "markdown",
   "id": "1c6c078e-5edb-48a8-ac69-bc10452b9465",
   "metadata": {},
   "source": [
    "# Transmission WAXS Analysis for Operando Membrane Fouling Experiments\n",
    "For single (i.e., non-tiled) images collected at ALS beamline 7.3.3"
   ]
  },
  {
   "cell_type": "code",
   "execution_count": null,
   "id": "f9363ab2",
   "metadata": {
    "tags": []
   },
   "outputs": [],
   "source": [
    "import warnings; warnings.filterwarnings('ignore')"
   ]
  },
  {
   "cell_type": "code",
   "execution_count": null,
   "id": "e9454e04",
   "metadata": {
    "tags": []
   },
   "outputs": [],
   "source": [
    "import os\n",
    "import re\n",
    "import numpy as np\n",
    "import pandas as pd\n",
    "import matplotlib as mpl\n",
    "import matplotlib.pyplot as plt\n",
    "%matplotlib inline \n",
    "import pyFAI\n",
    "import fabio\n",
    "plt.style.use('default')\n",
    "from mpl_toolkits.axes_grid1.axes_divider import make_axes_locatable\n",
    "from mpl_toolkits.axes_grid1.inset_locator import inset_axes\n",
    "from matplotlib.colorbar import Colorbar as colorbar\n",
    "from matplotlib.colors import LogNorm\n",
    "from scipy.integrate import simps\n",
    "from tqdm import tqdm"
   ]
  },
  {
   "cell_type": "code",
   "execution_count": null,
   "id": "71ad1bcf",
   "metadata": {
    "tags": []
   },
   "outputs": [],
   "source": [
    "flag_save = True"
   ]
  },
  {
   "cell_type": "code",
   "execution_count": null,
   "id": "f15148b0",
   "metadata": {
    "tags": []
   },
   "outputs": [],
   "source": [
    "# using  sorted, sample10 comes before sample1, so we clean this up now - taken from: https://stackoverflow.com/questions/5967500/how-to-correctly-sort-a-string-with-a-number-inside\n",
    "def text_to_int(text): return int(text) if text.isdigit() else text\n",
    "def natural_keys(text): return [ text_to_int(c) for c in re.split(r'(\\d+)', text ) ]"
   ]
  },
  {
   "cell_type": "code",
   "execution_count": null,
   "id": "608ad3c1",
   "metadata": {
    "tags": []
   },
   "outputs": [],
   "source": [
    "# locate directory\n",
    "\n",
    "master_path = '/global/cfs/cdirs/als/mwet/data/Landsman Temp/operando instrument paper/'\n",
    "sample_folder = 'exp01'  \n",
    "\n",
    "data_path = os.path.join(master_path, 'waxs_data', sample_folder)\n",
    "save_path = os.path.join(master_path, 'waxs_analysis', sample_folder)\n",
    "if flag_save: os.makedirs(save_path, exist_ok=True)\n",
    "    "
   ]
  },
  {
   "cell_type": "code",
   "execution_count": null,
   "id": "19c7a879",
   "metadata": {
    "scrolled": true,
    "tags": []
   },
   "outputs": [],
   "source": [
    "# load data, including any of the \"restarts\" when the hutch needed to be opened and data acquisition was paused\n",
    "\n",
    "files = sorted([os.path.join(data_path, f) for f in os.listdir(os.path.join(data_path)) if 'restart' not in f and 'beamstop_test' not in f and 'autoexpose_test' not in f and 'DS_Store' not in f])\n",
    "files_restart = sorted([os.path.join(data_path, f) for f in os.listdir(os.path.join(data_path)) if 'restart_' in f and 'beamstop_test' not in f and 'autoexpose_test' not in f and 'DS_Store' not in f])\n",
    "files_restart2 = sorted([os.path.join(data_path, f) for f in os.listdir(os.path.join(data_path)) if 'restart2' in f and 'beamstop_test' not in f and 'autoexpose_test' not in f and 'DS_Store' not in f])\n",
    "files.sort(key = natural_keys)\n",
    "files_restart.sort(key = natural_keys)\n",
    "files_restart2.sort(key = natural_keys)\n",
    "files += files_restart\n",
    "files += files_restart2\n",
    "\n",
    "imagefiles = sorted([os.path.join(data_path, f) for f in files if '.edf' in f], key=lambda x:  files.index(x))\n",
    "txtfiles = sorted([os.path.join(data_path, f) for f in files if '.txt' in f], key=lambda x:  files.index(x))\n",
    "sample_list = pd.Series([f[ : f.find('_2m.edf')] for f in imagefiles]).unique()\n",
    "sample_list_fname = pd.Series([f[f.find(data_path)+len(data_path)+1:] for f in sample_list]).unique()\n",
    "\n",
    "print(pd.Series(sample_list_fname))"
   ]
  },
  {
   "cell_type": "code",
   "execution_count": null,
   "id": "cf48fdd7-0400-426b-8792-9e52f1ed627a",
   "metadata": {
    "scrolled": true,
    "tags": []
   },
   "outputs": [],
   "source": [
    "# plot 2D images\n",
    "\n",
    "for samp in tqdm((sample_list[:])):\n",
    "    fname = sorted(f for f in imagefiles if (samp in f))[0]    \n",
    "    file = os.path.join(data_path,fname)\n",
    "    image = fabio.open(file)\n",
    "    array = image.data\n",
    "    array[array < 1] = 1\n",
    "\n",
    "    fig, ax = plt.subplots()\n",
    "    im = ax.imshow(array, norm=LogNorm(vmin=np.percentile(array, 20), vmax=np.percentile(array, 99.9)))\n",
    "\n",
    "    sample_title = os.path.basename(fname)\n",
    "    ax.set_title(sample_title)\n",
    "    ax.axis('off')\n",
    "        \n",
    "    ax_divider = make_axes_locatable(ax)\n",
    "    cax = ax_divider.append_axes('bottom', size='3%', pad='2%')\n",
    "    plt.colorbar(im, cax=cax, orientation='horizontal')\n",
    "    cax.set_xlabel('Scattering intensity (arbitrary units)', size=8)\n",
    "    cax.xaxis.set_label_position('bottom')\n",
    "    cax.xaxis.tick_bottom()\n",
    "    cax.xaxis.set_tick_params(labelsize=8)   \n",
    "    fig.tight_layout()\n",
    "    \n",
    "    if flag_save:\n",
    "        save_path_2dimages = os.path.join(save_path, 'waxs_2dimages')\n",
    "        os.makedirs(save_path_2dimages, exist_ok=True)\n",
    "        save_fname = os.path.join(save_path_2dimages, os.path.basename(samp) + '_2dimage.png')\n",
    "        fig.savefig(save_fname, bbox_inches='tight', dpi=300)    \n",
    "    "
   ]
  },
  {
   "cell_type": "code",
   "execution_count": null,
   "id": "d1691f68-48a2-4d2c-af6a-72b6cad1803a",
   "metadata": {},
   "outputs": [],
   "source": []
  },
  {
   "cell_type": "code",
   "execution_count": null,
   "id": "a84e1ea7",
   "metadata": {
    "tags": []
   },
   "outputs": [],
   "source": [
    "# azimuthal integrator (this is the most computationally expensive component, so we load it once and refer to it within loops later)\n",
    "# poni file was created using pyFAI calibration GUI (https://pyfai.readthedocs.io/en/master/usage/cookbook/calib-gui/index.html)\n",
    "\n",
    "poni = os.path.join(master_path, 'waxs_data', 'waxs_poni_mrl.poni')\n",
    "ai = pyFAI.load(poni)\n",
    "ai.maskfile = os.path.join(master_path, 'waxs_data', 'waxs_mask_mrl.edf')\n",
    "\n",
    "ai"
   ]
  },
  {
   "cell_type": "code",
   "execution_count": null,
   "id": "62012329-68cd-4816-9908-661f8ad3a038",
   "metadata": {
    "tags": []
   },
   "outputs": [],
   "source": [
    "# batch process(+save) reduced profiles --> normalize based on diode value, perform bkg subtraction, radially integrate, plot 1D profiles    \n",
    "\n",
    "colormap = plt.get_cmap('jet')\n",
    "colors = colormap(np.linspace(0.1, 1, len(sample_list)))\n",
    "azimuth_range=[-179,179]\n",
    "\n",
    "fig, ax = plt.subplots(figsize=(6, 5))\n",
    "\n",
    "transmission_list = []\n",
    "\n",
    "for idx, samp in tqdm(enumerate(sample_list[:])):\n",
    "    \n",
    "    # define ctrl/bkg scans\n",
    "    ctrl_fname = sorted(f for f in os.listdir(os.path.join(data_path)) if f'{sample_folder}_10s_1_2m' in f and '.edf' in f)[0]\n",
    "    ctrl_txtfile = sorted(f for f in os.listdir(os.path.join(data_path)) if f'{sample_folder}_10s_1_2m' in f and '.txt' in f)[0]\n",
    "\n",
    "    npt=4000\n",
    "    \n",
    "    ctrl_I1_value = int(np.loadtxt(os.path.join(data_path, ctrl_txtfile), skiprows=1, max_rows=1))\n",
    "    ctrl_diode_value = int(np.loadtxt(os.path.join(data_path, ctrl_txtfile), skiprows=0, max_rows=1))\n",
    "    ctrl_file = os.path.join(data_path, ctrl_fname)\n",
    "    ctrl_image = fabio.open(ctrl_file)\n",
    "    ctrl_array = ctrl_image.data\n",
    "    ctrl_array[ctrl_array < 10] = 1\n",
    "    ctrl_reduced = ai.integrate1d(ctrl_array, npt=npt, azimuth_range=azimuth_range)    \n",
    "    q_ctrl = ctrl_reduced[0] / 10\n",
    "    i_ctrl = ctrl_reduced[1] / ctrl_I1_value\n",
    "\n",
    "    # load txt file for normalization values\n",
    "    txtfile = sorted(t for t in txtfiles if (samp in t))[0]\n",
    "    I1_value = int(np.loadtxt(txtfile, skiprows=1, max_rows=1))\n",
    "    diode_value = int(np.loadtxt(txtfile, skiprows=0, max_rows=1))\n",
    "\n",
    "    \n",
    "    # load and reduce scattering profiles\n",
    "    fname = sorted(f for f in files if (samp in f))[0]\n",
    "    sample_file = os.path.join(data_path,os.path.basename(fname))\n",
    "    sample_image = fabio.open(sample_file)\n",
    "    sample_array = sample_image.data\n",
    "    sample_array[sample_array < 1] = 1\n",
    "    sample_reduced = ai.integrate1d(sample_array, npt=npt, azimuth_range=azimuth_range)    \n",
    "    q_sample = sample_reduced[0] / 10\n",
    "    i_sample = sample_reduced[1] / I1_value   \n",
    "   # i_sample = sample_reduced[1] / diode_value\n",
    "    i_sample_norm = i_sample #- i_ctrl\n",
    "    \n",
    " \n",
    "\n",
    "    # plot time series\n",
    "    ax.plot(q_sample,i_sample_norm,'-', linewidth=1, markerfacecolor='none', label=samp, color=colors[idx])\n",
    "    ax.set_title(f'Radially integrated WAXS profile\\n{sample_folder}')\n",
    "    ax.set_xlabel(r'Scattering vector, $q \\ (\\mathrm{\\AA^{-1}})$')\n",
    "    ax.set_ylabel('Scattering intensity (arbitrary units)')\n",
    "    ax.grid(which='major', color='lightgrey', linewidth=0.6); ax.grid(which='minor', color='lightgrey', linewidth=0.3)\n",
    "    #ax.set_xscale('log')\n",
    "    #ax.set_xlim([2.04, 2.12])\n",
    "    #ax.set_xlim([1.6,1.7])\n",
    "    #ax.set_xlim([2.5,2.55])\n",
    "    #ax.set_xlim([2.9, 3.1])\n",
    "    #ax.set_xlim([3.3,3.36])\n",
    "    #ax.set_xlim([1.5,3.1])\n",
    "    #ax.legend() #bbox_to_anchor=(1.04, 1))\n",
    "    \n",
    "    \n",
    "    # lets track the transmission flux throughout the data series\n",
    "    transmission_flux = diode_value / I1_value\n",
    "    transmission_list.append(transmission_flux)\n",
    "\n",
    "    \n",
    "    \n",
    "    if flag_save:        \n",
    "        save_path_radint = os.path.join(save_path, 'waxs_reduced')\n",
    "        os.makedirs(save_path_radint, exist_ok=True)\n",
    "        save_plotname = os.path.join(save_path, sample_folder + '_radint_series.png')\n",
    "        fig.savefig(save_plotname, bbox_inches='tight', dpi=300)\n",
    "        save_txtname = os.path.join(save_path_radint, sample_folder + '_' + str(idx) + '_radint.txt')\n",
    "        np.savetxt(save_txtname, np.vstack((q_sample, i_sample_norm)).T) \n",
    "        save_transmission = os.path.join(save_path, sample_folder + '_transmissionflux.txt')\n",
    "        np.savetxt(save_transmission, np.vstack((transmission_list)).T)\n",
    "           "
   ]
  },
  {
   "cell_type": "code",
   "execution_count": null,
   "id": "2e66862b-06f2-4a35-86c0-6281da96b1b0",
   "metadata": {
    "tags": []
   },
   "outputs": [],
   "source": [
    "# lets take a look at the transmission signal on the diode as a function of time\n",
    "\n",
    "fig, ax = plt.subplots(figsize=(6, 4))\n",
    "ax.set_title(f'Transmission flux through flow cell\\n{sample_folder}')\n",
    "ax.plot(transmission_list, 'o-')\n",
    "ax.set_xlabel('sample index')\n",
    "ax.set_ylabel('photodiode flux / I1 flux')\n",
    "ax.grid(which='major', color='lightgrey', linewidth=0.6); ax.grid(which='minor', color='lightgrey', linewidth=0.3)\n",
    "\n",
    "if flag_save:\n",
    "    save_plotname = os.path.join(save_path, sample_folder + '_transmissionflux.png')\n",
    "    fig.savefig(save_plotname, bbox_inches='tight', dpi=300)\n",
    "        \n"
   ]
  },
  {
   "cell_type": "code",
   "execution_count": null,
   "id": "2ada3eff-b8c2-4fc0-b337-84d3c37f7678",
   "metadata": {
    "scrolled": true,
    "tags": []
   },
   "outputs": [],
   "source": [
    "# now load the reduced files for further analysis\n",
    "\n",
    "if not flag_save:\n",
    "    save_path_radint = os.path.join(save_path, 'waxs_reduced')\n",
    "\n",
    "reduced_path = save_path_radint\n",
    "\n",
    "reduced_files = sorted(f for f in os.listdir(reduced_path) if '.txt' in f)\n",
    "reduced_files.sort(key=natural_keys)\n",
    "reduced_files\n"
   ]
  },
  {
   "cell_type": "code",
   "execution_count": null,
   "id": "70edee92-3d1b-43dc-96cb-5f1238ab03d2",
   "metadata": {
    "tags": []
   },
   "outputs": [],
   "source": [
    "# lets track the total scattering intensity\n",
    "\n",
    "tsi_list = []\n",
    "\n",
    "fig, ax = plt.subplots(figsize=(6, 4))\n",
    "\n",
    "for file in tqdm(reduced_files[:]):\n",
    "    \n",
    "    file_path = os.path.join(reduced_path, file)\n",
    "    data = np.loadtxt(file_path)\n",
    "    qvector = data[:,0]\n",
    "    intensity = data[:,1]   \n",
    "    \n",
    "    # total scattering intensity\n",
    "    tsi_valid_index1 = 100\n",
    "    tsi_valid_index2 = 3900\n",
    "    tsi_i_sample_norm = intensity[tsi_valid_index1:tsi_valid_index2]\n",
    "    tsi_q_sample = qvector[tsi_valid_index1:tsi_valid_index2]\n",
    "    tsi = np.trapz(tsi_i_sample_norm, tsi_q_sample)\n",
    "    tsi_list.append(tsi) \n",
    "    \n",
    "    # figure time :) \n",
    "    ax.plot(tsi_list, 'o-', label=f'tsi '+'$\\mathrm{\\AA^{-1}}$', color='tab:blue')\n",
    "    ax.set_title(f'Total scattering intensity\\n{sample_folder}')\n",
    "    ax.set_xlabel('sample index')\n",
    "    ax.set_ylabel('Total scattering intensity')\n",
    "    ax.grid(which='major', color='lightgrey', linewidth=0.6); ax.grid(which='minor', color='lightgrey', linewidth=0.3)\n",
    "\n",
    "    if flag_save:\n",
    "        save_tsiplot = os.path.join(save_path, sample_folder + '_tsi.png')\n",
    "        fig.savefig(save_tsiplot, bbox_inches='tight', dpi=300)       \n",
    "        save_tsitxt = os.path.join(save_path, sample_folder + '_tsi.txt')\n",
    "        np.savetxt(save_tsitxt, np.vstack((tsi_list)))   \n"
   ]
  },
  {
   "cell_type": "code",
   "execution_count": null,
   "id": "23d1c401-475d-4384-ac8b-c5599219ff18",
   "metadata": {
    "tags": []
   },
   "outputs": [],
   "source": [
    "# now we locate a peak of interest and track its area and q-position\n",
    "\n",
    "peak_q = 2.08 \n",
    "#peak_q = 1.63\n",
    "#peak_q = 2.53\n",
    "#peak_q = 2.75\n",
    "\n",
    "\n",
    "peak_q_list = []\n",
    "peak_area_list = []\n",
    "\n",
    "fig, ax = plt.subplots(figsize=(6, 4))\n",
    "\n",
    "for file in tqdm(reduced_files[:]):\n",
    "    \n",
    "    file_path = os.path.join(reduced_path, file)\n",
    "    data = np.loadtxt(file_path)\n",
    "    qvector = data[:,0]\n",
    "    intensity = data[:,1]   \n",
    "    \n",
    "    # peak identification and area calculation\n",
    "    peak_idx = np.argmin(np.abs(qvector - peak_q))\n",
    "    peak_window = 50\n",
    "    peak_min_idx = int(peak_idx - peak_window)\n",
    "    peak_max_idx = int(peak_idx + peak_window)\n",
    "    peak_q_selected = qvector[peak_min_idx : peak_max_idx]\n",
    "    peak_i_selected = intensity[peak_min_idx : peak_max_idx]\n",
    "    peak_background = np.interp(peak_q_selected, [peak_q_selected[0], peak_q_selected[-1]], [peak_i_selected[0], peak_i_selected[-1]])\n",
    "    peak_i_subtracted = peak_i_selected - peak_background\n",
    "    peak_i_max = np.argmax(peak_i_subtracted)\n",
    "    peak_q_max = peak_q_selected[peak_i_max]\n",
    "    peak_q_list.append(peak_q_max)\n",
    "    peak_area = np.trapz(peak_i_subtracted, peak_q_selected)\n",
    "    peak_area_list.append(peak_area)\n",
    "\n",
    "    # figure time :) \n",
    "    ax.plot(peak_area_list, 'o-', label=f'peak area, q={peak_q} '+'$\\mathrm{\\AA^{-1}}$', color='tab:red')  \n",
    "    ax.set_title(f'Peak area at q={peak_q}' + '$ \\mathrm{\\AA^{-1}}$' + f'\\n{sample_folder}')\n",
    "    ax.set_xlabel('sample index')\n",
    "    ax.set_ylabel(f'Peak area (arbitrary units)')\n",
    "    ax.grid(which='major', color='lightgrey', linewidth=0.6); ax.grid(which='minor', color='lightgrey', linewidth=0.3)\n",
    "\n",
    "    if flag_save:\n",
    "        save_peakplot = os.path.join(save_path, sample_folder + f'_peak_q={peak_q}.png')\n",
    "        fig.savefig(save_peakplot, bbox_inches='tight', dpi=300)       \n",
    "        save_peaktxt = os.path.join(save_path, sample_folder + f'_peak_q={peak_q}.txt')\n",
    "        np.savetxt(save_peaktxt, np.vstack((peak_area_list)))\n"
   ]
  },
  {
   "cell_type": "code",
   "execution_count": null,
   "id": "9e023773-e9fe-4c1e-b9ff-f58a9fe82fc3",
   "metadata": {
    "tags": []
   },
   "outputs": [],
   "source": [
    "# sometimes it is helpful to see the peak that is being fitted, so i'm leaving this here\n",
    "fig, ax = plt.subplots(figsize=(5, 3))\n",
    "\n",
    "ax.plot(peak_q_selected, peak_i_selected)    \n",
    "ax.plot(peak_q_selected, peak_background)\n",
    "ax.set_xlabel(r'Scattering vector, $q \\ (\\mathrm{\\AA^{-1}})$')\n",
    "ax.set_ylabel('Scattering intensity\\n(arbitrary units)')\n",
    "ax.grid(which='major', color='lightgrey', linewidth=0.6); ax.grid(which='minor', color='lightgrey', linewidth=0.3)\n",
    "#ax.plot(peak_q_selected, peak_i_subtracted)"
   ]
  },
  {
   "cell_type": "code",
   "execution_count": null,
   "id": "5b522740-42b1-4a8a-ac1f-71cf685f0a82",
   "metadata": {
    "tags": []
   },
   "outputs": [],
   "source": [
    "flag_save = False"
   ]
  },
  {
   "cell_type": "code",
   "execution_count": null,
   "id": "14c41b7c-a9d6-4de7-bfe4-74aa517c8352",
   "metadata": {},
   "outputs": [],
   "source": []
  },
  {
   "cell_type": "code",
   "execution_count": null,
   "id": "9b90471e-3f96-4dc0-91e0-edb331775bd8",
   "metadata": {
    "tags": []
   },
   "outputs": [],
   "source": [
    "# now lets make a heatmap\n",
    "\n",
    "fig, ax = plt.subplots(figsize=(12, 4))\n",
    "\n",
    "i_sample_list = []\n",
    "\n",
    "for idx, reduced_file in tqdm(enumerate(reduced_files[:])):\n",
    "    file_path = os.path.join(save_path_radint, reduced_file)\n",
    "    data = np.loadtxt(file_path)\n",
    "    q_sample = data[:, 0]\n",
    "    i_sample = data[:, 1]\n",
    "    i_sample_list.append(i_sample)\n",
    "\n",
    "# convert into 2D array\n",
    "heatmap_data = np.vstack((i_sample_list)).T\n",
    "\n",
    "# define min/max color values for heatmap and plot\n",
    "vmin = 0.07  \n",
    "vmax = 5 \n",
    "heatmap = ax.imshow(heatmap_data, cmap='magma', aspect='auto', extent=[0, len(reduced_files) * 0.5, q_sample.max(), q_sample.min()], vmin=vmin, vmax=vmax)\n",
    "#heatmap = ax.imshow(heatmap_data, cmap='magma', aspect='auto', extent=[0, len(reduced_files) * 0.5, q_sample.max(), q_sample.min()], vmin=vmin, vmax=vmax)\n",
    "ax.set_xlabel('Time (minutes)')\n",
    "ax.set_ylabel(r'Scattering vector, $q \\ (\\mathrm{\\AA^{-1}})$')\n",
    "#ax.set_title(f'Heatmap of WAXS intensities for {sample_folder}')\n",
    "cbar = plt.colorbar(heatmap, extend='both', pad=0.015)  \n",
    "cbar.set_label('Intensity')\n",
    "plt.show()\n",
    "\n",
    "if flag_save:\n",
    "    save_heatmap = os.path.join(save_path, sample_folder + f'_heatmap.png')\n",
    "    fig.savefig(save_heatmap, bbox_inches='tight', dpi=300)       \n",
    "\n"
   ]
  }
 ],
 "metadata": {
  "kernelspec": {
   "display_name": "Python 3 (ipykernel)",
   "language": "python",
   "name": "python3"
  },
  "language_info": {
   "codemirror_mode": {
    "name": "ipython",
    "version": 3
   },
   "file_extension": ".py",
   "mimetype": "text/x-python",
   "name": "python",
   "nbconvert_exporter": "python",
   "pygments_lexer": "ipython3",
   "version": "3.11.3"
  }
 },
 "nbformat": 4,
 "nbformat_minor": 5
}
